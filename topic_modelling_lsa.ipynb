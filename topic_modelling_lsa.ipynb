{
  "nbformat": 4,
  "nbformat_minor": 0,
  "metadata": {
    "colab": {
      "provenance": []
    },
    "kernelspec": {
      "name": "python3",
      "display_name": "Python 3"
    },
    "language_info": {
      "name": "python"
    }
  },
  "cells": [
    {
      "cell_type": "code",
      "execution_count": 21,
      "metadata": {
        "id": "bC9VrObOaITp"
      },
      "outputs": [],
      "source": [
        "import pandas as pd\n",
        "import re\n",
        "import string\n",
        "import numpy as np\n",
        "from sklearn.feature_extraction.text import CountVectorizer, TfidfTransformer\n",
        "import pandas as pd\n",
        "import numpy as np\n",
        "import scipy as sp\n",
        "import sklearn\n",
        "import sys\n",
        "import nltk\n",
        "from nltk.corpus import stopwords\n",
        "from gensim.models import ldamodel\n",
        "import gensim.corpora\n",
        "from sklearn.feature_extraction.text import CountVectorizer, TfidfTransformer\n",
        "from sklearn.decomposition import NMF\n",
        "from sklearn.preprocessing import normalize\n",
        "import pickle\n",
        "from gensim.models import LdaModel,LsiModel\n",
        "from gensim.corpora import Dictionary\n",
        "# import pyLDAvis.gensim\n",
        "import warnings\n",
        "from itertools import chain\n",
        "import matplotlib.pyplot as plt\n",
        "import seaborn as sns\n",
        "import warnings\n",
        "warnings.filterwarnings('ignore')\n",
        "from nltk.stem.wordnet import WordNetLemmatizer\n",
        "lmtzr = WordNetLemmatizer()\n",
        "import numpy as np\n",
        "import pandas as pd\n",
        "import string\n",
        "import re\n",
        "from tqdm._tqdm_notebook import tqdm_notebook,tnrange,tqdm\n",
        "from collections import Counter,OrderedDict\n",
        "from gensim import models,corpora\n",
        "# from gensim.summarization import summarize,keywords\n",
        "import warnings\n",
        "# import pyLDAvis.gensim\n",
        "import matplotlib.pyplot as plt\n",
        "import seaborn as sns\n",
        "# import pyLDAvis.gensim\n",
        "import gensim.models.phrases as gen\n",
        "from gensim.models.coherencemodel import CoherenceModel"
      ]
    },
    {
      "cell_type": "code",
      "source": [
        "import gdown"
      ],
      "metadata": {
        "id": "2h9NsxzsyyhO"
      },
      "execution_count": 2,
      "outputs": []
    },
    {
      "source": [
        "id = 'https://drive.google.com/uc?id=1b3rmCSIoh6VhD4HKWjI4HOW-cSwcwbeC'\n",
        "output = 'arxiv-dataset.zip'\n",
        "\n",
        "gdown.download(id, output, quiet=False)"
      ],
      "cell_type": "code",
      "metadata": {
        "colab": {
          "base_uri": "https://localhost:8080/",
          "height": 126
        },
        "id": "1uCWXgFDe81W",
        "outputId": "3474cfe4-f873-4782-c7ea-b5fec8636f24"
      },
      "execution_count": 3,
      "outputs": [
        {
          "output_type": "stream",
          "name": "stderr",
          "text": [
            "Downloading...\n",
            "From (original): https://drive.google.com/uc?id=1b3rmCSIoh6VhD4HKWjI4HOW-cSwcwbeC\n",
            "From (redirected): https://drive.google.com/uc?id=1b3rmCSIoh6VhD4HKWjI4HOW-cSwcwbeC&confirm=t&uuid=f9afd6e2-62b2-4a37-b449-960becbca56f\n",
            "To: /content/arxiv-dataset.zip\n",
            "100%|██████████| 3.62G/3.62G [00:33<00:00, 110MB/s]\n"
          ]
        },
        {
          "output_type": "execute_result",
          "data": {
            "text/plain": [
              "'arxiv-dataset.zip'"
            ],
            "application/vnd.google.colaboratory.intrinsic+json": {
              "type": "string"
            }
          },
          "metadata": {},
          "execution_count": 3
        }
      ]
    },
    {
      "source": [
        "!unzip arxiv-dataset.zip"
      ],
      "cell_type": "code",
      "metadata": {
        "colab": {
          "base_uri": "https://localhost:8080/"
        },
        "id": "VMP_cXWnfCYB",
        "outputId": "d0ebe605-21ca-4a14-cd41-cbf6605742d2"
      },
      "execution_count": 4,
      "outputs": [
        {
          "output_type": "stream",
          "name": "stdout",
          "text": [
            "Archive:  arxiv-dataset.zip\n",
            "   creating: arxiv-dataset/\n",
            "  inflating: __MACOSX/._arxiv-dataset  \n",
            "  inflating: arxiv-dataset/train.txt  \n",
            "  inflating: __MACOSX/arxiv-dataset/._train.txt  \n",
            "  inflating: arxiv-dataset/vocab     \n",
            "  inflating: __MACOSX/arxiv-dataset/._vocab  \n",
            "  inflating: arxiv-dataset/test.txt  \n",
            "  inflating: __MACOSX/arxiv-dataset/._test.txt  \n",
            "  inflating: arxiv-dataset/val.txt   \n",
            "  inflating: __MACOSX/arxiv-dataset/._val.txt  \n"
          ]
        }
      ]
    },
    {
      "cell_type": "code",
      "source": [
        "train_file_path = \"/content/arxiv-dataset/train.txt\"\n",
        "test_file_path = \"/content/arxiv-dataset/test.txt\"\n",
        "val_file_path = \"/content/arxiv-dataset/val.txt\"\n",
        "vocab_file_path = \"/content/arxiv-dataset/vocab\""
      ],
      "metadata": {
        "id": "UYwpWRJb6yK1"
      },
      "execution_count": 5,
      "outputs": []
    },
    {
      "cell_type": "code",
      "source": [
        "import json\n",
        "import pandas as pd"
      ],
      "metadata": {
        "id": "IQSYI3my-hlU"
      },
      "execution_count": 6,
      "outputs": []
    },
    {
      "cell_type": "code",
      "source": [
        "def read_json_instances_up_to_limit(file_path, limit=25000):\n",
        "    data = []\n",
        "    with open(file_path, 'r') as file:\n",
        "        instance_count = 0\n",
        "        while instance_count < limit:\n",
        "            line = file.readline()\n",
        "            if not line:\n",
        "                break  # End of file\n",
        "            instance = json.loads(line)\n",
        "            data.append(instance)\n",
        "            instance_count += 1\n",
        "    return data\n",
        "\n",
        "# Read exactly 25,000 training instances\n"
      ],
      "metadata": {
        "id": "9E8ARrThmtwc"
      },
      "execution_count": 7,
      "outputs": []
    },
    {
      "cell_type": "code",
      "source": [
        "train_data = read_json_instances_up_to_limit(train_file_path, limit=15000)"
      ],
      "metadata": {
        "id": "Iuq4oKfdnP-Y"
      },
      "execution_count": 8,
      "outputs": []
    },
    {
      "cell_type": "code",
      "source": [
        "train_df = pd.DataFrame(train_data)"
      ],
      "metadata": {
        "id": "Xxgf_bndoIqI"
      },
      "execution_count": 9,
      "outputs": []
    },
    {
      "cell_type": "code",
      "source": [
        "test_data = read_json_instances_up_to_limit(test_file_path,limit=10000)"
      ],
      "metadata": {
        "id": "5C4FbXz99B0J"
      },
      "execution_count": 26,
      "outputs": []
    },
    {
      "cell_type": "code",
      "source": [
        "test_df = pd.DataFrame(test_data)"
      ],
      "metadata": {
        "id": "Na-jAXXB9DOk"
      },
      "execution_count": 27,
      "outputs": []
    },
    {
      "cell_type": "code",
      "source": [
        "import pandas as pd\n",
        "\n",
        "# Assuming train_df is your DataFrame\n",
        "for index, row in train_df.iterrows():\n",
        "    concatenated_article_text = ' '.join(row['article_text']) if isinstance(row['article_text'], list) else row['article_text']\n",
        "    concatenated_abstract_text = ' '.join(row['abstract_text']) if isinstance(row['abstract_text'], list) else row['abstract_text']\n",
        "    train_df.at[index, 'article_text'] = concatenated_article_text\n",
        "    train_df.at[index, 'abstract_text'] = concatenated_abstract_text\n"
      ],
      "metadata": {
        "id": "LNT0qE-MsPyY"
      },
      "execution_count": 10,
      "outputs": []
    },
    {
      "cell_type": "code",
      "source": [
        "import pandas as pd\n",
        "\n",
        "# Assuming train_df is your DataFrame\n",
        "for index, row in test_df.iterrows():\n",
        "    concatenated_article_text = ' '.join(row['article_text']) if isinstance(row['article_text'], list) else row['article_text']\n",
        "    concatenated_abstract_text = ' '.join(row['abstract_text']) if isinstance(row['abstract_text'], list) else row['abstract_text']\n",
        "    test_df.at[index, 'article_text'] = concatenated_article_text\n",
        "    test_df.at[index, 'abstract_text'] = concatenated_abstract_text\n"
      ],
      "metadata": {
        "id": "s1mG1Q0rwyf0"
      },
      "execution_count": 28,
      "outputs": []
    },
    {
      "cell_type": "code",
      "execution_count": 11,
      "metadata": {
        "colab": {
          "base_uri": "https://localhost:8080/"
        },
        "id": "eGelh43CaIUB",
        "outputId": "30a46b47-3fd9-4ba6-82e7-fa152cf6e165"
      },
      "outputs": [
        {
          "output_type": "execute_result",
          "data": {
            "text/plain": [
              "15000"
            ]
          },
          "metadata": {},
          "execution_count": 11
        }
      ],
      "source": [
        "data=train_df\n",
        "len(data)"
      ]
    },
    {
      "cell_type": "code",
      "source": [
        "docs = [x for x in data['article_text']]"
      ],
      "metadata": {
        "id": "zf-7-6cpqPUr"
      },
      "execution_count": 12,
      "outputs": []
    },
    {
      "cell_type": "code",
      "execution_count": 13,
      "metadata": {
        "colab": {
          "base_uri": "https://localhost:8080/"
        },
        "id": "kEZ-SbF3aIUU",
        "outputId": "9019cc0d-5a2c-45a8-f14f-2c22ba56f9b2"
      },
      "outputs": [
        {
          "output_type": "stream",
          "name": "stderr",
          "text": [
            "[nltk_data] Downloading package stopwords to /root/nltk_data...\n",
            "[nltk_data]   Unzipping corpora/stopwords.zip.\n"
          ]
        },
        {
          "output_type": "execute_result",
          "data": {
            "text/plain": [
              "True"
            ]
          },
          "metadata": {},
          "execution_count": 13
        }
      ],
      "source": [
        "nltk.download('stopwords')"
      ]
    },
    {
      "cell_type": "code",
      "execution_count": 14,
      "metadata": {
        "id": "3ruojZ38aIUb"
      },
      "outputs": [],
      "source": [
        "from nltk.corpus import stopwords\n",
        "stop_words = stopwords.words('english')\n",
        "stop_words.extend(['xcite', 'fig', 'eq', 'xmath','et','al','following','proof','let','theorm','mu','delta','gamma','lambda','omega','pi','sigma','data','research','result','beta'])"
      ]
    },
    {
      "cell_type": "code",
      "execution_count": 15,
      "metadata": {
        "id": "SGhGmOkPaIUm"
      },
      "outputs": [],
      "source": [
        "# A function to prepare the text for topic modelling\n",
        "def words(text):\n",
        "    regex = re.compile('[' + re.escape(string.punctuation) + '0-9\\\\r\\\\t\\\\n]')\n",
        "    text = regex.sub(\" \", text.lower())\n",
        "    words = text.split()\n",
        "    words = [re.sub('\\S*@\\S*\\s?', '', sent) for sent in words]\n",
        "    words = [re.sub('\\s+', ' ', sent) for sent in words]\n",
        "    words = [re.sub(\"\\'\", \"\", sent) for sent in words]\n",
        "    words = [w for w in words if not len(w) < 2]\n",
        "    words = [w for w in words if w not in stop_words]\n",
        "    words = [lmtzr.lemmatize(w) for w in words]\n",
        "    words = [w for w in words if not w.startswith('xmath')]  # Filter out words starting with 'xmath'\n",
        "\n",
        "    return words"
      ]
    },
    {
      "cell_type": "code",
      "source": [
        "nltk.download('wordnet')"
      ],
      "metadata": {
        "colab": {
          "base_uri": "https://localhost:8080/"
        },
        "id": "i9GXqm2TxKXS",
        "outputId": "34a20092-a4bc-42a5-e5a4-1ae1d0029289"
      },
      "execution_count": 16,
      "outputs": [
        {
          "output_type": "stream",
          "name": "stderr",
          "text": [
            "[nltk_data] Downloading package wordnet to /root/nltk_data...\n"
          ]
        },
        {
          "output_type": "execute_result",
          "data": {
            "text/plain": [
              "True"
            ]
          },
          "metadata": {},
          "execution_count": 16
        }
      ]
    },
    {
      "cell_type": "code",
      "execution_count": 17,
      "metadata": {
        "id": "EYKA3KQhaIUo"
      },
      "outputs": [],
      "source": [
        "docs = [words(x) for x in data['article_text']]"
      ]
    },
    {
      "cell_type": "code",
      "source": [
        "dictionary = Dictionary(docs)"
      ],
      "metadata": {
        "id": "Tw06GhqGyFOw"
      },
      "execution_count": 18,
      "outputs": []
    },
    {
      "cell_type": "code",
      "source": [
        "corpus = [dictionary.doc2bow(doc) for doc in docs]"
      ],
      "metadata": {
        "id": "cjPH7DpRx_M0"
      },
      "execution_count": 19,
      "outputs": []
    },
    {
      "cell_type": "code",
      "source": [
        "num_topics = 10  # Number of topics/components\n",
        "lsa_model = LsiModel(corpus, id2word=dictionary, num_topics=num_topics)\n",
        "\n",
        "# Step 4: Interpret the Results\n",
        "for topic_id, topic in lsa_model.print_topics(num_topics):\n",
        "    print(\"Topic {}: {}\".format(topic_id, topic))"
      ],
      "metadata": {
        "colab": {
          "base_uri": "https://localhost:8080/"
        },
        "id": "nBJtSKo5HuGR",
        "outputId": "bb7efb40-6167-455a-9b39-7f0eabb78767"
      },
      "execution_count": 22,
      "outputs": [
        {
          "output_type": "stream",
          "name": "stdout",
          "text": [
            "Topic 0: 0.191*\"one\" + 0.165*\"model\" + 0.158*\"two\" + 0.152*\"function\" + 0.149*\"state\" + 0.141*\"energy\" + 0.137*\"right\" + 0.135*\"time\" + 0.134*\"case\" + 0.133*\"field\"\n",
            "Topic 1: 0.369*\"right\" + 0.348*\"left\" + 0.336*\"frac\" + 0.253*\"hline\" + 0.242*\"tabular\" + 0.197*\"end\" + 0.161*\"mu\" + -0.144*\"galaxy\" + 0.127*\"nu\" + -0.127*\"star\"\n",
            "Topic 2: 0.241*\"galaxy\" + -0.234*\"let\" + 0.214*\"mass\" + 0.204*\"star\" + 0.203*\"et\" + 0.189*\"al\" + 0.176*\"hline\" + 0.170*\"tabular\" + 0.146*\"left\" + 0.141*\"right\"\n",
            "Topic 3: 0.333*\"state\" + -0.261*\"let\" + 0.244*\"energy\" + -0.207*\"galaxy\" + 0.192*\"spin\" + 0.155*\"field\" + -0.151*\"star\" + -0.146*\"set\" + -0.135*\"et\" + -0.131*\"theorem\"\n",
            "Topic 4: -0.885*\"ensuremath\" + -0.248*\"mathit\" + -0.177*\"mathsf\" + -0.175*\"bullet\" + -0.174*\"mathop\" + -0.117*\"mathord\" + -0.094*\"mathbb\" + -0.059*\"sigma\" + -0.051*\"frac\" + -0.045*\"nil\"\n",
            "Topic 5: 0.410*\"frac\" + -0.369*\"hline\" + -0.354*\"tabular\" + -0.199*\"state\" + -0.168*\"begin\" + 0.127*\"right\" + 0.125*\"lambda\" + -0.125*\"cdots\" + 0.124*\"tau\" + 0.118*\"equation\"\n",
            "Topic 6: 0.613*\"de\" + 0.391*\"et\" + 0.294*\"est\" + 0.273*\"le\" + 0.174*\"que\" + 0.167*\"la\" + 0.145*\"un\" + 0.129*\"pour\" + 0.125*\"dans\" + 0.118*\"si\"\n",
            "Topic 7: -0.506*\"width\" + -0.496*\"height\" + -0.492*\"eps\" + -0.491*\"includegraphics\" + -0.058*\"array\" + -0.031*\"end\" + 0.028*\"galaxy\" + -0.024*\"line\" + 0.022*\"state\" + 0.022*\"mass\"\n",
            "Topic 8: 0.409*\"state\" + 0.264*\"spin\" + 0.238*\"galaxy\" + -0.190*\"equation\" + 0.142*\"site\" + 0.139*\"electron\" + 0.138*\"lattice\" + -0.136*\"solution\" + -0.135*\"hline\" + -0.134*\"time\"\n",
            "Topic 9: -0.369*\"right\" + -0.340*\"left\" + 0.311*\"field\" + 0.258*\"frac\" + 0.236*\"mu\" + 0.223*\"nu\" + -0.141*\"mathbf\" + -0.128*\"time\" + 0.124*\"partial\" + 0.121*\"tau\"\n"
          ]
        }
      ]
    },
    {
      "cell_type": "code",
      "source": [
        "def get_lsa_topics(model, num_topics):\n",
        "    word_dict = {};\n",
        "    for i in range(num_topics):\n",
        "        words = model.show_topic(i, topn = 20);\n",
        "        word_dict['Topic # ' + '{:02d}'.format(i+1)] = [i[0] for i in words];\n",
        "    return pd.DataFrame(word_dict);"
      ],
      "metadata": {
        "id": "pvLr-7QIQvEs"
      },
      "execution_count": 23,
      "outputs": []
    },
    {
      "cell_type": "code",
      "source": [
        "get_lsa_topics(lsa_model, 10)"
      ],
      "metadata": {
        "colab": {
          "base_uri": "https://localhost:8080/",
          "height": 676
        },
        "id": "V8gt15IjQ4Tk",
        "outputId": "1f35053f-61c5-4ccb-a968-114f8213d472"
      },
      "execution_count": 25,
      "outputs": [
        {
          "output_type": "execute_result",
          "data": {
            "text/plain": [
              "   Topic # 01 Topic # 02 Topic # 03 Topic # 04   Topic # 05  Topic # 06  \\\n",
              "0         one      right     galaxy      state   ensuremath        frac   \n",
              "1       model       left        let        let       mathit       hline   \n",
              "2         two       frac       mass     energy       mathsf     tabular   \n",
              "3    function      hline       star     galaxy       bullet       state   \n",
              "4       state    tabular         et       spin       mathop       begin   \n",
              "5      energy        end         al      field      mathord       right   \n",
              "6       right         mu      hline       star       mathbb      lambda   \n",
              "7        time     galaxy    tabular        set        sigma       cdots   \n",
              "8        case         nu       left         et         frac         tau   \n",
              "9       field       star      right    theorem          nil    equation   \n",
              "10      value      begin        set      lemma     colorbox      string   \n",
              "11     result         et       frac      phase      ifempty        left   \n",
              "12       also         al    theorem   electron           bf      mathbf   \n",
              "13       left      model        one         al        hline          pi   \n",
              "14       mass   nonumber      lemma        map        color         end   \n",
              "15     system      cdots      point   particle      tabular    underset   \n",
              "16       frac       cdot     source    quantum         post       omega   \n",
              "17   equation     string       high     system  mathversion  scattering   \n",
              "18      point       line      model       phys         sivo   amplitude   \n",
              "19      order       data      space   magnetic         bold     partial   \n",
              "\n",
              "   Topic # 07       Topic # 08 Topic # 09    Topic # 10  \n",
              "0          de            width      state         right  \n",
              "1          et           height       spin          left  \n",
              "2         est              eps     galaxy         field  \n",
              "3          le  includegraphics   equation          frac  \n",
              "4         que            array       site            mu  \n",
              "5          la              end   electron            nu  \n",
              "6          un           galaxy    lattice        mathbf  \n",
              "7        pour             line   solution          time  \n",
              "8        dans            state      hline       partial  \n",
              "9          si             mass       time           tau  \n",
              "10      state            hline    tabular      magnetic  \n",
              "11        par          tabular    quantum        lambda  \n",
              "12        une               de         de        system  \n",
              "13         al           mosaic   operator          spin  \n",
              "14     galaxy             star       mass     underline  \n",
              "15         en             spin       star  distribution  \n",
              "16       mass             knot      right        theory  \n",
              "17       spin          cluster      model      function  \n",
              "18       donc               cc       left         state  \n",
              "19       star         operator   function           psi  "
            ],
            "text/html": [
              "\n",
              "  <div id=\"df-8af8a958-5117-4eda-97ae-fffda5fdee42\" class=\"colab-df-container\">\n",
              "    <div>\n",
              "<style scoped>\n",
              "    .dataframe tbody tr th:only-of-type {\n",
              "        vertical-align: middle;\n",
              "    }\n",
              "\n",
              "    .dataframe tbody tr th {\n",
              "        vertical-align: top;\n",
              "    }\n",
              "\n",
              "    .dataframe thead th {\n",
              "        text-align: right;\n",
              "    }\n",
              "</style>\n",
              "<table border=\"1\" class=\"dataframe\">\n",
              "  <thead>\n",
              "    <tr style=\"text-align: right;\">\n",
              "      <th></th>\n",
              "      <th>Topic # 01</th>\n",
              "      <th>Topic # 02</th>\n",
              "      <th>Topic # 03</th>\n",
              "      <th>Topic # 04</th>\n",
              "      <th>Topic # 05</th>\n",
              "      <th>Topic # 06</th>\n",
              "      <th>Topic # 07</th>\n",
              "      <th>Topic # 08</th>\n",
              "      <th>Topic # 09</th>\n",
              "      <th>Topic # 10</th>\n",
              "    </tr>\n",
              "  </thead>\n",
              "  <tbody>\n",
              "    <tr>\n",
              "      <th>0</th>\n",
              "      <td>one</td>\n",
              "      <td>right</td>\n",
              "      <td>galaxy</td>\n",
              "      <td>state</td>\n",
              "      <td>ensuremath</td>\n",
              "      <td>frac</td>\n",
              "      <td>de</td>\n",
              "      <td>width</td>\n",
              "      <td>state</td>\n",
              "      <td>right</td>\n",
              "    </tr>\n",
              "    <tr>\n",
              "      <th>1</th>\n",
              "      <td>model</td>\n",
              "      <td>left</td>\n",
              "      <td>let</td>\n",
              "      <td>let</td>\n",
              "      <td>mathit</td>\n",
              "      <td>hline</td>\n",
              "      <td>et</td>\n",
              "      <td>height</td>\n",
              "      <td>spin</td>\n",
              "      <td>left</td>\n",
              "    </tr>\n",
              "    <tr>\n",
              "      <th>2</th>\n",
              "      <td>two</td>\n",
              "      <td>frac</td>\n",
              "      <td>mass</td>\n",
              "      <td>energy</td>\n",
              "      <td>mathsf</td>\n",
              "      <td>tabular</td>\n",
              "      <td>est</td>\n",
              "      <td>eps</td>\n",
              "      <td>galaxy</td>\n",
              "      <td>field</td>\n",
              "    </tr>\n",
              "    <tr>\n",
              "      <th>3</th>\n",
              "      <td>function</td>\n",
              "      <td>hline</td>\n",
              "      <td>star</td>\n",
              "      <td>galaxy</td>\n",
              "      <td>bullet</td>\n",
              "      <td>state</td>\n",
              "      <td>le</td>\n",
              "      <td>includegraphics</td>\n",
              "      <td>equation</td>\n",
              "      <td>frac</td>\n",
              "    </tr>\n",
              "    <tr>\n",
              "      <th>4</th>\n",
              "      <td>state</td>\n",
              "      <td>tabular</td>\n",
              "      <td>et</td>\n",
              "      <td>spin</td>\n",
              "      <td>mathop</td>\n",
              "      <td>begin</td>\n",
              "      <td>que</td>\n",
              "      <td>array</td>\n",
              "      <td>site</td>\n",
              "      <td>mu</td>\n",
              "    </tr>\n",
              "    <tr>\n",
              "      <th>5</th>\n",
              "      <td>energy</td>\n",
              "      <td>end</td>\n",
              "      <td>al</td>\n",
              "      <td>field</td>\n",
              "      <td>mathord</td>\n",
              "      <td>right</td>\n",
              "      <td>la</td>\n",
              "      <td>end</td>\n",
              "      <td>electron</td>\n",
              "      <td>nu</td>\n",
              "    </tr>\n",
              "    <tr>\n",
              "      <th>6</th>\n",
              "      <td>right</td>\n",
              "      <td>mu</td>\n",
              "      <td>hline</td>\n",
              "      <td>star</td>\n",
              "      <td>mathbb</td>\n",
              "      <td>lambda</td>\n",
              "      <td>un</td>\n",
              "      <td>galaxy</td>\n",
              "      <td>lattice</td>\n",
              "      <td>mathbf</td>\n",
              "    </tr>\n",
              "    <tr>\n",
              "      <th>7</th>\n",
              "      <td>time</td>\n",
              "      <td>galaxy</td>\n",
              "      <td>tabular</td>\n",
              "      <td>set</td>\n",
              "      <td>sigma</td>\n",
              "      <td>cdots</td>\n",
              "      <td>pour</td>\n",
              "      <td>line</td>\n",
              "      <td>solution</td>\n",
              "      <td>time</td>\n",
              "    </tr>\n",
              "    <tr>\n",
              "      <th>8</th>\n",
              "      <td>case</td>\n",
              "      <td>nu</td>\n",
              "      <td>left</td>\n",
              "      <td>et</td>\n",
              "      <td>frac</td>\n",
              "      <td>tau</td>\n",
              "      <td>dans</td>\n",
              "      <td>state</td>\n",
              "      <td>hline</td>\n",
              "      <td>partial</td>\n",
              "    </tr>\n",
              "    <tr>\n",
              "      <th>9</th>\n",
              "      <td>field</td>\n",
              "      <td>star</td>\n",
              "      <td>right</td>\n",
              "      <td>theorem</td>\n",
              "      <td>nil</td>\n",
              "      <td>equation</td>\n",
              "      <td>si</td>\n",
              "      <td>mass</td>\n",
              "      <td>time</td>\n",
              "      <td>tau</td>\n",
              "    </tr>\n",
              "    <tr>\n",
              "      <th>10</th>\n",
              "      <td>value</td>\n",
              "      <td>begin</td>\n",
              "      <td>set</td>\n",
              "      <td>lemma</td>\n",
              "      <td>colorbox</td>\n",
              "      <td>string</td>\n",
              "      <td>state</td>\n",
              "      <td>hline</td>\n",
              "      <td>tabular</td>\n",
              "      <td>magnetic</td>\n",
              "    </tr>\n",
              "    <tr>\n",
              "      <th>11</th>\n",
              "      <td>result</td>\n",
              "      <td>et</td>\n",
              "      <td>frac</td>\n",
              "      <td>phase</td>\n",
              "      <td>ifempty</td>\n",
              "      <td>left</td>\n",
              "      <td>par</td>\n",
              "      <td>tabular</td>\n",
              "      <td>quantum</td>\n",
              "      <td>lambda</td>\n",
              "    </tr>\n",
              "    <tr>\n",
              "      <th>12</th>\n",
              "      <td>also</td>\n",
              "      <td>al</td>\n",
              "      <td>theorem</td>\n",
              "      <td>electron</td>\n",
              "      <td>bf</td>\n",
              "      <td>mathbf</td>\n",
              "      <td>une</td>\n",
              "      <td>de</td>\n",
              "      <td>de</td>\n",
              "      <td>system</td>\n",
              "    </tr>\n",
              "    <tr>\n",
              "      <th>13</th>\n",
              "      <td>left</td>\n",
              "      <td>model</td>\n",
              "      <td>one</td>\n",
              "      <td>al</td>\n",
              "      <td>hline</td>\n",
              "      <td>pi</td>\n",
              "      <td>al</td>\n",
              "      <td>mosaic</td>\n",
              "      <td>operator</td>\n",
              "      <td>spin</td>\n",
              "    </tr>\n",
              "    <tr>\n",
              "      <th>14</th>\n",
              "      <td>mass</td>\n",
              "      <td>nonumber</td>\n",
              "      <td>lemma</td>\n",
              "      <td>map</td>\n",
              "      <td>color</td>\n",
              "      <td>end</td>\n",
              "      <td>galaxy</td>\n",
              "      <td>star</td>\n",
              "      <td>mass</td>\n",
              "      <td>underline</td>\n",
              "    </tr>\n",
              "    <tr>\n",
              "      <th>15</th>\n",
              "      <td>system</td>\n",
              "      <td>cdots</td>\n",
              "      <td>point</td>\n",
              "      <td>particle</td>\n",
              "      <td>tabular</td>\n",
              "      <td>underset</td>\n",
              "      <td>en</td>\n",
              "      <td>spin</td>\n",
              "      <td>star</td>\n",
              "      <td>distribution</td>\n",
              "    </tr>\n",
              "    <tr>\n",
              "      <th>16</th>\n",
              "      <td>frac</td>\n",
              "      <td>cdot</td>\n",
              "      <td>source</td>\n",
              "      <td>quantum</td>\n",
              "      <td>post</td>\n",
              "      <td>omega</td>\n",
              "      <td>mass</td>\n",
              "      <td>knot</td>\n",
              "      <td>right</td>\n",
              "      <td>theory</td>\n",
              "    </tr>\n",
              "    <tr>\n",
              "      <th>17</th>\n",
              "      <td>equation</td>\n",
              "      <td>string</td>\n",
              "      <td>high</td>\n",
              "      <td>system</td>\n",
              "      <td>mathversion</td>\n",
              "      <td>scattering</td>\n",
              "      <td>spin</td>\n",
              "      <td>cluster</td>\n",
              "      <td>model</td>\n",
              "      <td>function</td>\n",
              "    </tr>\n",
              "    <tr>\n",
              "      <th>18</th>\n",
              "      <td>point</td>\n",
              "      <td>line</td>\n",
              "      <td>model</td>\n",
              "      <td>phys</td>\n",
              "      <td>sivo</td>\n",
              "      <td>amplitude</td>\n",
              "      <td>donc</td>\n",
              "      <td>cc</td>\n",
              "      <td>left</td>\n",
              "      <td>state</td>\n",
              "    </tr>\n",
              "    <tr>\n",
              "      <th>19</th>\n",
              "      <td>order</td>\n",
              "      <td>data</td>\n",
              "      <td>space</td>\n",
              "      <td>magnetic</td>\n",
              "      <td>bold</td>\n",
              "      <td>partial</td>\n",
              "      <td>star</td>\n",
              "      <td>operator</td>\n",
              "      <td>function</td>\n",
              "      <td>psi</td>\n",
              "    </tr>\n",
              "  </tbody>\n",
              "</table>\n",
              "</div>\n",
              "    <div class=\"colab-df-buttons\">\n",
              "\n",
              "  <div class=\"colab-df-container\">\n",
              "    <button class=\"colab-df-convert\" onclick=\"convertToInteractive('df-8af8a958-5117-4eda-97ae-fffda5fdee42')\"\n",
              "            title=\"Convert this dataframe to an interactive table.\"\n",
              "            style=\"display:none;\">\n",
              "\n",
              "  <svg xmlns=\"http://www.w3.org/2000/svg\" height=\"24px\" viewBox=\"0 -960 960 960\">\n",
              "    <path d=\"M120-120v-720h720v720H120Zm60-500h600v-160H180v160Zm220 220h160v-160H400v160Zm0 220h160v-160H400v160ZM180-400h160v-160H180v160Zm440 0h160v-160H620v160ZM180-180h160v-160H180v160Zm440 0h160v-160H620v160Z\"/>\n",
              "  </svg>\n",
              "    </button>\n",
              "\n",
              "  <style>\n",
              "    .colab-df-container {\n",
              "      display:flex;\n",
              "      gap: 12px;\n",
              "    }\n",
              "\n",
              "    .colab-df-convert {\n",
              "      background-color: #E8F0FE;\n",
              "      border: none;\n",
              "      border-radius: 50%;\n",
              "      cursor: pointer;\n",
              "      display: none;\n",
              "      fill: #1967D2;\n",
              "      height: 32px;\n",
              "      padding: 0 0 0 0;\n",
              "      width: 32px;\n",
              "    }\n",
              "\n",
              "    .colab-df-convert:hover {\n",
              "      background-color: #E2EBFA;\n",
              "      box-shadow: 0px 1px 2px rgba(60, 64, 67, 0.3), 0px 1px 3px 1px rgba(60, 64, 67, 0.15);\n",
              "      fill: #174EA6;\n",
              "    }\n",
              "\n",
              "    .colab-df-buttons div {\n",
              "      margin-bottom: 4px;\n",
              "    }\n",
              "\n",
              "    [theme=dark] .colab-df-convert {\n",
              "      background-color: #3B4455;\n",
              "      fill: #D2E3FC;\n",
              "    }\n",
              "\n",
              "    [theme=dark] .colab-df-convert:hover {\n",
              "      background-color: #434B5C;\n",
              "      box-shadow: 0px 1px 3px 1px rgba(0, 0, 0, 0.15);\n",
              "      filter: drop-shadow(0px 1px 2px rgba(0, 0, 0, 0.3));\n",
              "      fill: #FFFFFF;\n",
              "    }\n",
              "  </style>\n",
              "\n",
              "    <script>\n",
              "      const buttonEl =\n",
              "        document.querySelector('#df-8af8a958-5117-4eda-97ae-fffda5fdee42 button.colab-df-convert');\n",
              "      buttonEl.style.display =\n",
              "        google.colab.kernel.accessAllowed ? 'block' : 'none';\n",
              "\n",
              "      async function convertToInteractive(key) {\n",
              "        const element = document.querySelector('#df-8af8a958-5117-4eda-97ae-fffda5fdee42');\n",
              "        const dataTable =\n",
              "          await google.colab.kernel.invokeFunction('convertToInteractive',\n",
              "                                                    [key], {});\n",
              "        if (!dataTable) return;\n",
              "\n",
              "        const docLinkHtml = 'Like what you see? Visit the ' +\n",
              "          '<a target=\"_blank\" href=https://colab.research.google.com/notebooks/data_table.ipynb>data table notebook</a>'\n",
              "          + ' to learn more about interactive tables.';\n",
              "        element.innerHTML = '';\n",
              "        dataTable['output_type'] = 'display_data';\n",
              "        await google.colab.output.renderOutput(dataTable, element);\n",
              "        const docLink = document.createElement('div');\n",
              "        docLink.innerHTML = docLinkHtml;\n",
              "        element.appendChild(docLink);\n",
              "      }\n",
              "    </script>\n",
              "  </div>\n",
              "\n",
              "\n",
              "<div id=\"df-f2f73a04-d98d-44bf-b1d3-fb4f543f461f\">\n",
              "  <button class=\"colab-df-quickchart\" onclick=\"quickchart('df-f2f73a04-d98d-44bf-b1d3-fb4f543f461f')\"\n",
              "            title=\"Suggest charts\"\n",
              "            style=\"display:none;\">\n",
              "\n",
              "<svg xmlns=\"http://www.w3.org/2000/svg\" height=\"24px\"viewBox=\"0 0 24 24\"\n",
              "     width=\"24px\">\n",
              "    <g>\n",
              "        <path d=\"M19 3H5c-1.1 0-2 .9-2 2v14c0 1.1.9 2 2 2h14c1.1 0 2-.9 2-2V5c0-1.1-.9-2-2-2zM9 17H7v-7h2v7zm4 0h-2V7h2v10zm4 0h-2v-4h2v4z\"/>\n",
              "    </g>\n",
              "</svg>\n",
              "  </button>\n",
              "\n",
              "<style>\n",
              "  .colab-df-quickchart {\n",
              "      --bg-color: #E8F0FE;\n",
              "      --fill-color: #1967D2;\n",
              "      --hover-bg-color: #E2EBFA;\n",
              "      --hover-fill-color: #174EA6;\n",
              "      --disabled-fill-color: #AAA;\n",
              "      --disabled-bg-color: #DDD;\n",
              "  }\n",
              "\n",
              "  [theme=dark] .colab-df-quickchart {\n",
              "      --bg-color: #3B4455;\n",
              "      --fill-color: #D2E3FC;\n",
              "      --hover-bg-color: #434B5C;\n",
              "      --hover-fill-color: #FFFFFF;\n",
              "      --disabled-bg-color: #3B4455;\n",
              "      --disabled-fill-color: #666;\n",
              "  }\n",
              "\n",
              "  .colab-df-quickchart {\n",
              "    background-color: var(--bg-color);\n",
              "    border: none;\n",
              "    border-radius: 50%;\n",
              "    cursor: pointer;\n",
              "    display: none;\n",
              "    fill: var(--fill-color);\n",
              "    height: 32px;\n",
              "    padding: 0;\n",
              "    width: 32px;\n",
              "  }\n",
              "\n",
              "  .colab-df-quickchart:hover {\n",
              "    background-color: var(--hover-bg-color);\n",
              "    box-shadow: 0 1px 2px rgba(60, 64, 67, 0.3), 0 1px 3px 1px rgba(60, 64, 67, 0.15);\n",
              "    fill: var(--button-hover-fill-color);\n",
              "  }\n",
              "\n",
              "  .colab-df-quickchart-complete:disabled,\n",
              "  .colab-df-quickchart-complete:disabled:hover {\n",
              "    background-color: var(--disabled-bg-color);\n",
              "    fill: var(--disabled-fill-color);\n",
              "    box-shadow: none;\n",
              "  }\n",
              "\n",
              "  .colab-df-spinner {\n",
              "    border: 2px solid var(--fill-color);\n",
              "    border-color: transparent;\n",
              "    border-bottom-color: var(--fill-color);\n",
              "    animation:\n",
              "      spin 1s steps(1) infinite;\n",
              "  }\n",
              "\n",
              "  @keyframes spin {\n",
              "    0% {\n",
              "      border-color: transparent;\n",
              "      border-bottom-color: var(--fill-color);\n",
              "      border-left-color: var(--fill-color);\n",
              "    }\n",
              "    20% {\n",
              "      border-color: transparent;\n",
              "      border-left-color: var(--fill-color);\n",
              "      border-top-color: var(--fill-color);\n",
              "    }\n",
              "    30% {\n",
              "      border-color: transparent;\n",
              "      border-left-color: var(--fill-color);\n",
              "      border-top-color: var(--fill-color);\n",
              "      border-right-color: var(--fill-color);\n",
              "    }\n",
              "    40% {\n",
              "      border-color: transparent;\n",
              "      border-right-color: var(--fill-color);\n",
              "      border-top-color: var(--fill-color);\n",
              "    }\n",
              "    60% {\n",
              "      border-color: transparent;\n",
              "      border-right-color: var(--fill-color);\n",
              "    }\n",
              "    80% {\n",
              "      border-color: transparent;\n",
              "      border-right-color: var(--fill-color);\n",
              "      border-bottom-color: var(--fill-color);\n",
              "    }\n",
              "    90% {\n",
              "      border-color: transparent;\n",
              "      border-bottom-color: var(--fill-color);\n",
              "    }\n",
              "  }\n",
              "</style>\n",
              "\n",
              "  <script>\n",
              "    async function quickchart(key) {\n",
              "      const quickchartButtonEl =\n",
              "        document.querySelector('#' + key + ' button');\n",
              "      quickchartButtonEl.disabled = true;  // To prevent multiple clicks.\n",
              "      quickchartButtonEl.classList.add('colab-df-spinner');\n",
              "      try {\n",
              "        const charts = await google.colab.kernel.invokeFunction(\n",
              "            'suggestCharts', [key], {});\n",
              "      } catch (error) {\n",
              "        console.error('Error during call to suggestCharts:', error);\n",
              "      }\n",
              "      quickchartButtonEl.classList.remove('colab-df-spinner');\n",
              "      quickchartButtonEl.classList.add('colab-df-quickchart-complete');\n",
              "    }\n",
              "    (() => {\n",
              "      let quickchartButtonEl =\n",
              "        document.querySelector('#df-f2f73a04-d98d-44bf-b1d3-fb4f543f461f button');\n",
              "      quickchartButtonEl.style.display =\n",
              "        google.colab.kernel.accessAllowed ? 'block' : 'none';\n",
              "    })();\n",
              "  </script>\n",
              "</div>\n",
              "\n",
              "    </div>\n",
              "  </div>\n"
            ],
            "application/vnd.google.colaboratory.intrinsic+json": {
              "type": "dataframe",
              "summary": "{\n  \"name\": \"get_lsa_topics(lsa_model, 10)\",\n  \"rows\": 20,\n  \"fields\": [\n    {\n      \"column\": \"Topic # 01\",\n      \"properties\": {\n        \"dtype\": \"string\",\n        \"num_unique_values\": 20,\n        \"samples\": [\n          \"one\",\n          \"equation\",\n          \"system\"\n        ],\n        \"semantic_type\": \"\",\n        \"description\": \"\"\n      }\n    },\n    {\n      \"column\": \"Topic # 02\",\n      \"properties\": {\n        \"dtype\": \"string\",\n        \"num_unique_values\": 20,\n        \"samples\": [\n          \"right\",\n          \"string\",\n          \"cdots\"\n        ],\n        \"semantic_type\": \"\",\n        \"description\": \"\"\n      }\n    },\n    {\n      \"column\": \"Topic # 03\",\n      \"properties\": {\n        \"dtype\": \"string\",\n        \"num_unique_values\": 20,\n        \"samples\": [\n          \"galaxy\",\n          \"high\",\n          \"point\"\n        ],\n        \"semantic_type\": \"\",\n        \"description\": \"\"\n      }\n    },\n    {\n      \"column\": \"Topic # 04\",\n      \"properties\": {\n        \"dtype\": \"string\",\n        \"num_unique_values\": 20,\n        \"samples\": [\n          \"state\",\n          \"system\",\n          \"particle\"\n        ],\n        \"semantic_type\": \"\",\n        \"description\": \"\"\n      }\n    },\n    {\n      \"column\": \"Topic # 05\",\n      \"properties\": {\n        \"dtype\": \"string\",\n        \"num_unique_values\": 20,\n        \"samples\": [\n          \"ensuremath\",\n          \"mathversion\",\n          \"tabular\"\n        ],\n        \"semantic_type\": \"\",\n        \"description\": \"\"\n      }\n    },\n    {\n      \"column\": \"Topic # 06\",\n      \"properties\": {\n        \"dtype\": \"string\",\n        \"num_unique_values\": 20,\n        \"samples\": [\n          \"frac\",\n          \"scattering\",\n          \"underset\"\n        ],\n        \"semantic_type\": \"\",\n        \"description\": \"\"\n      }\n    },\n    {\n      \"column\": \"Topic # 07\",\n      \"properties\": {\n        \"dtype\": \"string\",\n        \"num_unique_values\": 20,\n        \"samples\": [\n          \"de\",\n          \"spin\",\n          \"en\"\n        ],\n        \"semantic_type\": \"\",\n        \"description\": \"\"\n      }\n    },\n    {\n      \"column\": \"Topic # 08\",\n      \"properties\": {\n        \"dtype\": \"string\",\n        \"num_unique_values\": 20,\n        \"samples\": [\n          \"width\",\n          \"cluster\",\n          \"spin\"\n        ],\n        \"semantic_type\": \"\",\n        \"description\": \"\"\n      }\n    },\n    {\n      \"column\": \"Topic # 09\",\n      \"properties\": {\n        \"dtype\": \"string\",\n        \"num_unique_values\": 20,\n        \"samples\": [\n          \"state\",\n          \"model\",\n          \"star\"\n        ],\n        \"semantic_type\": \"\",\n        \"description\": \"\"\n      }\n    },\n    {\n      \"column\": \"Topic # 10\",\n      \"properties\": {\n        \"dtype\": \"string\",\n        \"num_unique_values\": 20,\n        \"samples\": [\n          \"right\",\n          \"function\",\n          \"distribution\"\n        ],\n        \"semantic_type\": \"\",\n        \"description\": \"\"\n      }\n    }\n  ]\n}"
            }
          },
          "metadata": {},
          "execution_count": 25
        }
      ]
    },
    {
      "cell_type": "code",
      "source": [
        "# Assuming you have the LSI model trained already (lsa_model)\n",
        "\n",
        "# Tokenize the single text instance\n",
        "single_text = words(test_df['article_text'][100])\n",
        "# tokenized_text = simple_preprocess(single_text)\n",
        "\n",
        "# Create a dictionary from the tokenized text\n",
        "# Note: Use the same dictionary used for training\n",
        "# dictionary = Dictionary([single_text])\n",
        "\n",
        "# Convert the tokenized text into a bag-of-words representation\n",
        "bow_vector = dictionary.doc2bow(single_text)\n",
        "\n",
        "# Use the trained LSI model for inference\n",
        "topic_distribution = lsa_model[bow_vector]\n",
        "\n",
        "# Print the topic distribution for the single test instance\n",
        "print(\"Topic distribution:\", topic_distribution)\n"
      ],
      "metadata": {
        "colab": {
          "base_uri": "https://localhost:8080/"
        },
        "id": "mDFhn9znRKBX",
        "outputId": "69e11dbc-2a51-486b-8fef-954568983088"
      },
      "execution_count": 29,
      "outputs": [
        {
          "output_type": "stream",
          "name": "stdout",
          "text": [
            "Topic distribution: [(0, 139.29293697877313), (1, -4.2036029264488075), (2, -118.58159891988696), (3, -113.61074470787372), (4, 12.676394394153874), (5, -39.91912522025825), (6, 1.3602845240010342), (7, 1.2190027152583185), (8, 13.708182453054846), (9, 29.95134747552311)]\n"
          ]
        }
      ]
    },
    {
      "cell_type": "code",
      "source": [
        "for topic_id, topic_prob in topic_distribution:\n",
        "    print(\"Topic:\", topic_id)\n",
        "    print(\"Top Words:\", lsa_model.show_topic(topic_id,topn=20))"
      ],
      "metadata": {
        "colab": {
          "base_uri": "https://localhost:8080/"
        },
        "id": "gQ3ERTVLRsZB",
        "outputId": "4b0cc5a4-45d1-4931-a60b-1831e43bdce3"
      },
      "execution_count": 31,
      "outputs": [
        {
          "output_type": "stream",
          "name": "stdout",
          "text": [
            "Topic: 0\n",
            "Top Words: [('one', 0.19129430526317964), ('model', 0.16538887923712728), ('two', 0.15771229061684627), ('function', 0.15235684584919632), ('state', 0.1490719528089296), ('energy', 0.14061981641607918), ('right', 0.13695452860359902), ('time', 0.13485967308850955), ('case', 0.13388361605718907), ('field', 0.13317057861157514), ('value', 0.12868845346906377), ('result', 0.1241136088842923), ('also', 0.12178006107739614), ('left', 0.1216090263600173), ('mass', 0.11036544312295955), ('system', 0.10638942308409224), ('frac', 0.10511693850811883), ('equation', 0.10330681515716575), ('point', 0.1027456594387255), ('order', 0.10115805923128575)]\n",
            "Topic: 1\n",
            "Top Words: [('right', 0.36949475323328146), ('left', 0.34835071302251985), ('frac', 0.33560888857878035), ('hline', 0.2525297161716446), ('tabular', 0.241883362620962), ('end', 0.19690961799629592), ('mu', 0.16054024716406104), ('galaxy', -0.1440673297195455), ('nu', 0.12726772915651183), ('star', -0.12706199906992857), ('begin', 0.12569616515174667), ('et', -0.12396033665858318), ('al', -0.1209510089309811), ('model', -0.1208542580213728), ('nonumber', 0.10424309850585192), ('cdots', 0.09369274785471211), ('cdot', 0.09231141859138059), ('string', 0.09147807747024989), ('line', -0.0804362801190365), ('data', -0.07626733357632712)]\n",
            "Topic: 2\n",
            "Top Words: [('galaxy', 0.2407297114102165), ('let', -0.23374889780302882), ('mass', 0.21422895320974317), ('star', 0.20384139924162653), ('et', 0.2034510147143837), ('al', 0.18906546759057827), ('hline', 0.17615722742772366), ('tabular', 0.16950822508779032), ('left', 0.14552253794255643), ('right', 0.14089215069367653), ('set', -0.14021800458169947), ('frac', 0.12552817296441157), ('theorem', -0.11671309185606994), ('one', -0.11671253341583149), ('lemma', -0.10132881619018569), ('point', -0.09695154186400386), ('source', 0.09269599690664725), ('high', 0.09227122201669453), ('model', 0.09026544390254564), ('space', -0.08843187332778545)]\n",
            "Topic: 3\n",
            "Top Words: [('state', 0.33332892828669025), ('let', -0.260760134003579), ('energy', 0.24377811342649824), ('galaxy', -0.20722388197426458), ('spin', 0.1915350093521345), ('field', 0.15467910333723456), ('star', -0.15053327559640192), ('set', -0.14575010386849963), ('et', -0.1350672934294035), ('theorem', -0.13147781023717228), ('lemma', -0.126603054102227), ('phase', 0.12408405260121903), ('electron', 0.11987105356702607), ('al', -0.10736410298517186), ('map', -0.10537040030363592), ('particle', 0.10252168872035707), ('quantum', 0.10141439047984899), ('system', 0.09831001634175637), ('phys', 0.09294914144200546), ('magnetic', 0.09142922088227019)]\n",
            "Topic: 4\n",
            "Top Words: [('ensuremath', -0.8852761123400135), ('mathit', -0.247900821154664), ('mathsf', -0.17683428571681303), ('bullet', -0.17453415618705065), ('mathop', -0.17422446837516264), ('mathord', -0.11734388087479729), ('mathbb', -0.0939890305129794), ('sigma', -0.05943742762746268), ('frac', -0.05070707674359021), ('nil', -0.04532531020930457), ('colorbox', -0.045322187639892875), ('ifempty', -0.04104237911917924), ('bf', -0.038964099732184086), ('hline', 0.03844385148561766), ('color', -0.037555574089734416), ('tabular', 0.03680984033341988), ('post', -0.03648929870471775), ('mathversion', -0.036261416272819015), ('sivo', -0.03625829811755712), ('bold', -0.036248956625337815)]\n",
            "Topic: 5\n",
            "Top Words: [('frac', 0.4098630210731406), ('hline', -0.36940983719342924), ('tabular', -0.3540858387565391), ('state', -0.1989137491292412), ('begin', -0.16818993388223324), ('right', 0.12726933620651715), ('lambda', 0.1245544978231267), ('cdots', -0.12450737476902257), ('tau', 0.12361172918521579), ('equation', 0.1179407742290086), ('string', -0.11609964457931675), ('left', 0.1099437369714395), ('mathbf', 0.10701753439993004), ('pi', 0.10346885698604609), ('end', -0.10256240539478405), ('underset', -0.09989511021384262), ('omega', 0.09829829071274966), ('scattering', -0.09763223533233892), ('amplitude', -0.09714252366983545), ('partial', 0.09663093148396953)]\n",
            "Topic: 6\n",
            "Top Words: [('de', 0.6126261910177261), ('et', 0.3908983897650593), ('est', 0.2942765948125924), ('le', 0.2732229486700124), ('que', 0.1736621814828869), ('la', 0.16723357540891365), ('un', 0.14518895367419032), ('pour', 0.1291851359152803), ('dans', 0.12548788748220918), ('si', 0.11836516025254191), ('state', 0.11745923817571798), ('par', 0.11398465500857555), ('une', 0.09418388251524895), ('al', 0.08982898698157675), ('galaxy', -0.08453107732723107), ('en', 0.0841672570297627), ('mass', -0.08305104916711185), ('spin', 0.07122488131380199), ('donc', 0.06813297711115456), ('star', -0.0654255489698253)]\n",
            "Topic: 7\n",
            "Top Words: [('width', -0.5061945391717623), ('height', -0.4959490420846251), ('eps', -0.4923190702595114), ('includegraphics', -0.4911562970892706), ('array', -0.05771390791380653), ('end', -0.03125658044750469), ('galaxy', 0.027957286337472385), ('line', -0.024417026162918486), ('state', 0.022290453872954672), ('mass', 0.02152406178966864), ('hline', 0.02127350380388103), ('tabular', 0.020341787180404785), ('de', -0.017609721936680544), ('mosaic', -0.01759178479746449), ('star', 0.015884073955520644), ('spin', 0.014889223724572073), ('knot', -0.013958583441328845), ('cluster', 0.011831294057497188), ('cc', -0.011624149410144209), ('operator', 0.011141817558985617)]\n",
            "Topic: 8\n",
            "Top Words: [('state', 0.40898517730482026), ('spin', 0.2637273360504361), ('galaxy', 0.23784408001022259), ('equation', -0.18954482680873297), ('site', 0.1419160440902392), ('electron', 0.13893244126278406), ('lattice', 0.13797733640776252), ('solution', -0.13552956817173062), ('hline', -0.1350581888121632), ('time', -0.13413851524893378), ('tabular', -0.1297755467734651), ('quantum', 0.12070170748217154), ('de', -0.11992222776641008), ('operator', 0.11956933237225036), ('mass', -0.11943358003911715), ('star', 0.10809992942048668), ('right', 0.10803901201945154), ('model', -0.10551288880270401), ('left', 0.10397507765040985), ('function', -0.10325549617536793)]\n",
            "Topic: 9\n",
            "Top Words: [('right', -0.36868446657629167), ('left', -0.34020591775919545), ('field', 0.31098612557061167), ('frac', 0.25777198608259244), ('mu', 0.23577955855475982), ('nu', 0.22340519723518426), ('mathbf', -0.14116172051366427), ('time', -0.12822143166781017), ('partial', 0.12388735353188844), ('tau', 0.1208925530593916), ('magnetic', 0.11984865931058611), ('lambda', 0.11621422272683679), ('system', -0.11212227604369915), ('spin', 0.09924021333571534), ('underline', 0.0919376354488852), ('distribution', -0.09153548001696919), ('theory', 0.08673005558340754), ('function', -0.08477497615323802), ('state', -0.08350423585506887), ('psi', 0.08070981044028376)]\n"
          ]
        }
      ]
    }
  ]
}